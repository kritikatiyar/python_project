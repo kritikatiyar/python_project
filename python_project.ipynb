{
  "nbformat": 4,
  "nbformat_minor": 0,
  "metadata": {
    "colab": {
      "provenance": [],
      "authorship_tag": "ABX9TyNAd1L+HoQaMkhiRq/ZrTdj",
      "include_colab_link": true
    },
    "kernelspec": {
      "name": "python3",
      "display_name": "Python 3"
    },
    "language_info": {
      "name": "python"
    }
  },
  "cells": [
    {
      "cell_type": "markdown",
      "metadata": {
        "id": "view-in-github",
        "colab_type": "text"
      },
      "source": [
        "<a href=\"https://colab.research.google.com/github/kritikatiyar/python_project/blob/main/python_project.ipynb\" target=\"_parent\"><img src=\"https://colab.research.google.com/assets/colab-badge.svg\" alt=\"Open In Colab\"/></a>"
      ]
    },
    {
      "cell_type": "code",
      "execution_count": 1,
      "metadata": {
        "colab": {
          "base_uri": "https://localhost:8080/"
        },
        "id": "5nrYbcBP2O2w",
        "outputId": "6352cbdf-fba5-4c95-995d-98fe30608403"
      },
      "outputs": [
        {
          "output_type": "stream",
          "name": "stdout",
          "text": [
            "Enter any number : 45\n",
            "Too much far\n",
            "Enter any other number : 34\n",
            "Too much far\n",
            "Enter any other number : 20\n",
            "Too much far\n",
            "Enter any other number : 12\n",
            "Too much far\n",
            "Enter any other number : 34\n",
            "Too much far\n",
            "Enter any other number : 56\n",
            "Too much far\n",
            "Enter any other number : 10\n",
            "Too much far\n",
            "Enter any other number : 3\n",
            "Too much low\n",
            "Enter any other number : 5\n",
            "Too much low\n",
            "Enter any other number : 7\n",
            "Hurray !! You guessed the correct value\n"
          ]
        }
      ],
      "source": [
        "import random\n",
        "# to create a range of random numbers between 1-20\n",
        "n = random.randrange(1,20)\n",
        "guess_value = int(input(\"Enter any number : \"))\n",
        "while n != guess_value:\n",
        "    # if guess_value is smaller than n\n",
        "    if guess_value < n:\n",
        "        # ask user for input\n",
        "        print(\"Too much low\")\n",
        "        guess_value = int(input(\"Enter any other number : \"))\n",
        "\n",
        "    # if guess_value is greater than n\n",
        "    elif guess_value > n:\n",
        "        print(\"Too much far\")\n",
        "        # ask user for input\n",
        "        guess_value = int(input(\"Enter any other number : \"))\n",
        "\n",
        "    # if guess_value and n value are equal to eachother\n",
        "    else:\n",
        "        break\n",
        "\n",
        "print(\"Hurray !! You guessed the correct value\")"
      ]
    }
  ]
}